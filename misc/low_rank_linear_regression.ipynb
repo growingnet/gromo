{
 "cells": [
  {
   "cell_type": "code",
   "execution_count": 1,
   "metadata": {},
   "outputs": [],
   "source": [
    "%load_ext autoreload\n",
    "%autoreload"
   ]
  },
  {
   "cell_type": "code",
   "execution_count": 2,
   "metadata": {},
   "outputs": [],
   "source": [
    "import torch\n",
    "import numpy as np\n",
    "from gromo.tools import *\n",
    "from gromo.low_rank_linear_regression import *\n",
    "from typing import Callable\n",
    "from tqdm.notebook import tqdm\n",
    "import matplotlib.pyplot as plt\n",
    "import tensorly as tl\n",
    "tl.set_backend('pytorch')"
   ]
  },
  {
   "cell_type": "markdown",
   "metadata": {},
   "source": [
    "I tested different methods to compute the new neuronns ie to solve:\n",
    "$$\\min_{A, O} ||Y - X A O||_F$$\n",
    "\n",
    "- the one from the TINY paper (ie SVD of $S^{-1/2}N$ then multiply back with $S^{-1/2}N$)\n",
    "- the simple SVD of $S^{-1}N$\n",
    "- the one from https://www.ncbi.nlm.nih.gov/pmc/articles/PMC4191838/pdf/nihms497477.pdf (i will call it SXYZ) which is basically getting the SVD of $X = UDV^T$ then extracting the first vectors from the SVD of $V D^{-1} U^T Y$ (and slight variation that do not seems to change much) (Note that this include the SVD of a matrix of size $n \\times p$ where $n$ is the number of sample, the time complexity is still linear in $n$ but it is more expensive in practice. On an other point, this does not allow to compute the tensor $S$ by batch so $X$ should fit in memory)\n",
    "\n",
    "\n",
    "I generated the data with $x_{i,j} \\sim N(0, 1)$,  $a_{i,j} \\sim N(0, 1)$, $O_{i, j} \\sim N(0, 1)$ and $Y = X A O + N(0, 10^{-3})$.\n",
    "\n",
    "If the number of sample is low ($n=20$ but $p=200$ (input size) and $d=100$ (output size)), the SXYZ give better results, then the TINY and finally the SVD. If the number of sample is high ($n=p\\times d$) all the methods give the approximately the same results (even if the TINY is slightly worse)."
   ]
  },
  {
   "cell_type": "code",
   "execution_count": 3,
   "metadata": {},
   "outputs": [],
   "source": [
    "def gen_data(n: int, p: int, d: int, k: int, seed: int | None = None, float_type=torch.float64) -> tuple[torch.Tensor, torch.Tensor]:\n",
    "    true_a = torch.randn(p, k, dtype=float_type)\n",
    "    true_b = torch.randn(k, d, dtype=float_type)\n",
    "\n",
    "    x = torch.randn(n, p, dtype=float_type)\n",
    "    w = torch.randn(p, p, dtype=float_type)\n",
    "    x = x @ w\n",
    "    x *= 10 * torch.rand(p, dtype=float_type)\n",
    "    y = x @ true_a @ true_b + (1e-3) * torch.randn(n, d, dtype=float_type)\n",
    "    return x, y\n"
   ]
  },
  {
   "cell_type": "code",
   "execution_count": 4,
   "metadata": {},
   "outputs": [],
   "source": [
    "def test_methods(n: int, \n",
    "                 p: int, \n",
    "                 d: int, \n",
    "                 k: int, \n",
    "                 methods: dict[str, Callable[[torch.Tensor, torch.Tensor, int], tuple[torch.Tensor, torch.Tensor]]], \n",
    "                 samples: int = 100,\n",
    "                 float_type=torch.float64,\n",
    "                 gpu: bool = False):\n",
    "    results = {name: np.zeros(samples) for name in methods.keys()}\n",
    "    for i in range(samples):\n",
    "        x, y = gen_data(n, p, d, k, seed=i, float_type=float_type)\n",
    "        if gpu and torch.cuda.is_available():\n",
    "            x = x.to(device=torch.device('cuda'))\n",
    "            y = y.to(device=torch.device('cuda'))\n",
    "        for name, method in methods.items():\n",
    "            a, b = method(x, y, k)\n",
    "            results[name][i] = value(x, y, a, b) / np.sqrt(n * p)\n",
    "    return results"
   ]
  },
  {
   "cell_type": "code",
   "execution_count": 5,
   "metadata": {},
   "outputs": [],
   "source": [
    "methods = {\n",
    "    \"TINY\": solve_tiny,\n",
    "    \"TINY N\": solve_tiny_normalized,\n",
    "    \"SXYZ\": solve_nih,\n",
    "    \"SVD\": solve_svd_l2,\n",
    "    # \"SVD tl\": solve_svd_l2_tl,\n",
    "    # \"SVD pi\": solve_svd_l2_pinv,\n",
    "    # \"SXYZ no proj\": lambda x, y, k: solve_nih(x, y, k, option=1),\n",
    "    # \"SXYZ permute proj trunc\": lambda x, y, k: solve_nih(x, y, k, option=2)\n",
    "}\n",
    "\n",
    "p = 100\n",
    "d = 100\n",
    "k = 1"
   ]
  },
  {
   "cell_type": "code",
   "execution_count": 6,
   "metadata": {},
   "outputs": [
    {
     "name": "stdout",
     "output_type": "stream",
     "text": [
      "type: torch.float32, n = 20, p = 100, d = 100, k = 1, device: CPU\n",
      "----------\n",
      "TINY:\t\t4.334e-01 (this / best = 4.2e+02) \n",
      "TINY N:\t\t1.268e+00 (this / best = 1.2e+03) \n",
      "SXYZ:\t\t1.057e-03 (this / best = 1.0e+00) \n",
      "SVD:\t\t1.024e-03 (this / best = 1.0e+00) (BEST)\n",
      "\n",
      "type: torch.float32, n = 250, p = 100, d = 100, k = 1, device: CPU\n",
      "----------\n",
      "TINY:\t\t8.949e-02 (this / best = 7.7e+01) \n",
      "TINY N:\t\t8.296e-02 (this / best = 7.2e+01) \n",
      "SXYZ:\t\t1.156e-03 (this / best = 1.0e+00) (BEST)\n",
      "SVD:\t\t6.717e+00 (this / best = 5.8e+03) \n",
      "\n",
      "type: torch.float32, n = 10000, p = 100, d = 100, k = 1, device: CPU\n",
      "----------\n",
      "TINY:\t\t7.854e-02 (this / best = 6.8e+01) \n",
      "TINY N:\t\t1.318e-01 (this / best = 1.1e+02) \n",
      "SXYZ:\t\t1.163e-03 (this / best = 1.0e+00) (BEST)\n",
      "SVD:\t\t3.962e+00 (this / best = 3.4e+03) \n",
      "\n",
      "type: torch.float32, n = 100000, p = 100, d = 100, k = 1, device: CPU\n",
      "----------\n",
      "TINY:\t\t9.965e-02 (this / best = 8.4e+01) \n",
      "TINY N:\t\t1.014e-01 (this / best = 8.6e+01) \n",
      "SXYZ:\t\t1.185e-03 (this / best = 1.0e+00) (BEST)\n",
      "SVD:\t\t4.567e+00 (this / best = 3.9e+03) \n",
      "\n",
      "type: torch.float64, n = 20, p = 100, d = 100, k = 1, device: CPU\n",
      "----------\n",
      "TINY:\t\t9.668e-04 (this / best = 1.0e+00) \n",
      "TINY N:\t\t9.667e-04 (this / best = 1.0e+00) \n",
      "SXYZ:\t\t9.666e-04 (this / best = 1.0e+00) (BEST)\n",
      "SVD:\t\t9.896e-04 (this / best = 1.0e+00) \n",
      "\n",
      "type: torch.float64, n = 250, p = 100, d = 100, k = 1, device: CPU\n",
      "----------\n",
      "TINY:\t\t9.969e-04 (this / best = 1.0e+00) \n",
      "TINY N:\t\t9.969e-04 (this / best = 1.0e+00) \n",
      "SXYZ:\t\t9.969e-04 (this / best = 1.0e+00) (BEST)\n",
      "SVD:\t\t8.280e-02 (this / best = 8.3e+01) \n",
      "\n",
      "type: torch.float64, n = 10000, p = 100, d = 100, k = 1, device: CPU\n",
      "----------\n",
      "TINY:\t\t9.999e-04 (this / best = 1.0e+00) \n",
      "TINY N:\t\t9.999e-04 (this / best = 1.0e+00) \n",
      "SXYZ:\t\t9.999e-04 (this / best = 1.0e+00) (BEST)\n",
      "SVD:\t\t1.966e-02 (this / best = 2.0e+01) \n",
      "\n",
      "type: torch.float64, n = 100000, p = 100, d = 100, k = 1, device: CPU\n",
      "----------\n",
      "TINY:\t\t1.000e-03 (this / best = 1.0e+00) \n",
      "TINY N:\t\t1.000e-03 (this / best = 1.0e+00) \n",
      "SXYZ:\t\t1.000e-03 (this / best = 1.0e+00) (BEST)\n",
      "SVD:\t\t4.549e-03 (this / best = 4.5e+00) \n",
      "\n"
     ]
    }
   ],
   "source": [
    "agglomerate_results = dict()\n",
    "gpu = False\n",
    "for tf in [torch.float32, torch.float64]:\n",
    "    for n in [20, 250, p * d, 10 * p * d]:\n",
    "        results = test_methods(n, p, d, k, methods, float_type=tf, gpu=gpu)\n",
    "        print(f\"type: {tf}, n = {n}, p = {p}, d = {d}, k = {k}, device: {'GPU' if gpu and torch.cuda.is_available() else 'CPU'}\")\n",
    "        print('-' * 10)\n",
    "        results_avg = {name: res.mean() for name, res in results.items()}\n",
    "        best_avg = min(results_avg.values())\n",
    "        best_method = [name for name, res in results.items() if res.mean() == best_avg][0]\n",
    "        \n",
    "        for name, res in results.items():\n",
    "            print(f\"{name}:\\t\\t{res.mean():.3e} (this / best = {res.mean() / best_avg:.1e}) {'(BEST)' if name == best_method else ''}\")\n",
    "        print()\n",
    "        agglomerate_results[(tf, n)] = results"
   ]
  },
  {
   "cell_type": "code",
   "execution_count": null,
   "metadata": {},
   "outputs": [
    {
     "name": "stdout",
     "output_type": "stream",
     "text": [
      "type: torch.float32, n = 20, p = 100, d = 100, k = 10\n",
      "----------\n",
      "TINY:\t1.586e+01 (this / best = 1.4e+03) \n",
      "SXYZ:\t1.134e-02 (this / best = 1.0e+00) (BEST)\n",
      "SVD:\t1.750e+05 (this / best = 1.5e+07) \n",
      "\n",
      "type: torch.float32, n = 250, p = 100, d = 100, k = 10\n",
      "----------\n",
      "TINY:\t6.528e-01 (this / best = 3.4e+01) \n",
      "SXYZ:\t1.930e-02 (this / best = 1.0e+00) (BEST)\n",
      "SVD:\t5.701e+01 (this / best = 3.0e+03) \n",
      "\n",
      "type: torch.float32, n = 10000, p = 100, d = 100, k = 10\n",
      "----------\n",
      "TINY:\t4.608e-01 (this / best = 2.3e+01) \n",
      "SXYZ:\t1.990e-02 (this / best = 1.0e+00) (BEST)\n",
      "SVD:\t4.972e+01 (this / best = 2.5e+03) \n",
      "\n",
      "type: torch.float32, n = 100000, p = 100, d = 100, k = 10\n",
      "----------\n",
      "TINY:\t8.370e-01 (this / best = 4.4e+01) \n",
      "SXYZ:\t1.884e-02 (this / best = 1.0e+00) (BEST)\n",
      "SVD:\t1.799e+02 (this / best = 9.5e+03) \n",
      "\n",
      "type: torch.float64, n = 20, p = 100, d = 100, k = 10\n",
      "----------\n",
      "TINY:\t6.758e-04 (this / best = 1.0e+00) \n",
      "SXYZ:\t6.716e-04 (this / best = 1.0e+00) (BEST)\n",
      "SVD:\t8.165e-04 (this / best = 1.2e+00) \n",
      "\n",
      "type: torch.float64, n = 250, p = 100, d = 100, k = 10\n",
      "----------\n",
      "TINY:\t9.614e-04 (this / best = 1.0e+00) \n",
      "SXYZ:\t9.614e-04 (this / best = 1.0e+00) (BEST)\n",
      "SVD:\t1.574e-01 (this / best = 1.6e+02) \n",
      "\n",
      "type: torch.float64, n = 10000, p = 100, d = 100, k = 10\n",
      "----------\n",
      "TINY:\t9.991e-04 (this / best = 1.0e+00) \n",
      "SXYZ:\t9.991e-04 (this / best = 1.0e+00) (BEST)\n",
      "SVD:\t2.187e-02 (this / best = 2.2e+01) \n",
      "\n",
      "type: torch.float64, n = 100000, p = 100, d = 100, k = 10\n",
      "----------\n",
      "TINY:\t9.999e-04 (this / best = 1.0e+00) \n",
      "SXYZ:\t9.999e-04 (this / best = 1.0e+00) (BEST)\n",
      "SVD:\t3.289e-02 (this / best = 3.3e+01) \n",
      "\n"
     ]
    }
   ],
   "source": [
    "agglomerate_results = dict()\n",
    "gpu = torch.cuda.is_available()\n",
    "for tf in [torch.float32, torch.float64]:\n",
    "    for n in [20, 250, p * d, 10 * p * d]:\n",
    "        results = test_methods(n, p, d, k, methods, float_type=tf, gpu=gpu)\n",
    "        print(f\"type: {tf}, n = {n}, p = {p}, d = {d}, k = {k}, device: {'GPU' if gpu and torch.cuda.is_available() else 'CPU'}\")\n",
    "        print('-' * 10)\n",
    "        results_avg = {name: res.mean() for name, res in results.items()}\n",
    "        best_avg = min(results_avg.values())\n",
    "        best_method = [name for name, res in results.items() if res.mean() == best_avg][0]\n",
    "        \n",
    "        for name, res in results.items():\n",
    "            print(f\"{name}:\\t{res.mean():.3e} (this / best = {res.mean() / best_avg:.1e}) {'(BEST)' if name == best_method else ''}\")\n",
    "        print()\n",
    "        agglomerate_results[(tf, n)] = results"
   ]
  },
  {
   "cell_type": "code",
   "execution_count": null,
   "metadata": {},
   "outputs": [
    {
     "name": "stdout",
     "output_type": "stream",
     "text": [
      "type: torch.float32, n = 20, p = 100, d = 100, k = 10\n",
      "----------\n",
      "TINY:\t1.586e+01 (this / best = 1.4e+03) \n",
      "SXYZ:\t1.134e-02 (this / best = 1.0e+00) (BEST)\n",
      "SVD:\t1.750e+05 (this / best = 1.5e+07) \n",
      "\n",
      "type: torch.float32, n = 250, p = 100, d = 100, k = 10\n",
      "----------\n",
      "TINY:\t6.528e-01 (this / best = 3.4e+01) \n",
      "SXYZ:\t1.930e-02 (this / best = 1.0e+00) (BEST)\n",
      "SVD:\t5.701e+01 (this / best = 3.0e+03) \n",
      "\n",
      "type: torch.float32, n = 10000, p = 100, d = 100, k = 10\n",
      "----------\n",
      "TINY:\t4.608e-01 (this / best = 2.3e+01) \n",
      "SXYZ:\t1.990e-02 (this / best = 1.0e+00) (BEST)\n",
      "SVD:\t4.972e+01 (this / best = 2.5e+03) \n",
      "\n",
      "type: torch.float32, n = 100000, p = 100, d = 100, k = 10\n",
      "----------\n",
      "TINY:\t8.370e-01 (this / best = 4.4e+01) \n",
      "SXYZ:\t1.884e-02 (this / best = 1.0e+00) (BEST)\n",
      "SVD:\t1.799e+02 (this / best = 9.5e+03) \n",
      "\n",
      "type: torch.float64, n = 20, p = 100, d = 100, k = 10\n",
      "----------\n",
      "TINY:\t6.758e-04 (this / best = 1.0e+00) \n",
      "SXYZ:\t6.716e-04 (this / best = 1.0e+00) (BEST)\n",
      "SVD:\t8.165e-04 (this / best = 1.2e+00) \n",
      "\n",
      "type: torch.float64, n = 250, p = 100, d = 100, k = 10\n",
      "----------\n",
      "TINY:\t9.614e-04 (this / best = 1.0e+00) \n",
      "SXYZ:\t9.614e-04 (this / best = 1.0e+00) (BEST)\n",
      "SVD:\t1.574e-01 (this / best = 1.6e+02) \n",
      "\n",
      "type: torch.float64, n = 10000, p = 100, d = 100, k = 10\n",
      "----------\n",
      "TINY:\t9.991e-04 (this / best = 1.0e+00) \n",
      "SXYZ:\t9.991e-04 (this / best = 1.0e+00) (BEST)\n",
      "SVD:\t2.187e-02 (this / best = 2.2e+01) \n",
      "\n",
      "type: torch.float64, n = 100000, p = 100, d = 100, k = 10\n",
      "----------\n",
      "TINY:\t9.999e-04 (this / best = 1.0e+00) \n",
      "SXYZ:\t9.999e-04 (this / best = 1.0e+00) (BEST)\n",
      "SVD:\t3.289e-02 (this / best = 3.3e+01) \n",
      "\n"
     ]
    }
   ],
   "source": [
    "agglomerate_results = dict()\n",
    "gpu = torch.cuda.is_available()\n",
    "for tf in [torch.float32, torch.float64]:\n",
    "    for n in [20, 250, p * d, 10 * p * d]:\n",
    "        results = test_methods(n, p, d, k, methods, float_type=tf, gpu=gpu)\n",
    "        print(f\"type: {tf}, n = {n}, p = {p}, d = {d}, k = {k}, device: {'GPU' if gpu and torch.cuda.is_available() else 'CPU'}\")\n",
    "        print('-' * 10)\n",
    "        results_avg = {name: res.mean() for name, res in results.items()}\n",
    "        best_avg = min(results_avg.values())\n",
    "        best_method = [name for name, res in results.items() if res.mean() == best_avg][0]\n",
    "        \n",
    "        for name, res in results.items():\n",
    "            print(f\"{name}:\\t{res.mean():.3e} (this / best = {res.mean() / best_avg:.1e}) {'(BEST)' if name == best_method else ''}\")\n",
    "        print()\n",
    "        agglomerate_results[(tf, n)] = results"
   ]
  },
  {
   "cell_type": "code",
   "execution_count": 13,
   "metadata": {},
   "outputs": [
    {
     "name": "stdout",
     "output_type": "stream",
     "text": [
      "min: 1.16e-02, max: 1.50e+04\n"
     ]
    },
    {
     "data": {
      "text/plain": [
       "<matplotlib.legend.Legend at 0x778bbac40950>"
      ]
     },
     "execution_count": 13,
     "metadata": {},
     "output_type": "execute_result"
    },
    {
     "data": {
      "image/png": "[encoded data removed]",
      "text/plain": [
       "<Figure size 1000x500 with 1 Axes>"
      ]
     },
     "metadata": {},
     "output_type": "display_data"
    }
   ],
   "source": [
    "tf = torch.float32\n",
    "n = 100000\n",
    "results = agglomerate_results[(tf, n)]\n",
    "\n",
    "# Plot histograms\n",
    "# get the bins for all histograms\n",
    "all_samples = np.concatenate([res for res in results.values()])\n",
    "print(f\"min: {all_samples.min():.2e}, max: {all_samples.max():.2e}\")\n",
    "bins = np.histogram_bin_edges(all_samples, bins='auto')\n",
    "patterns = [ \"/\" , \"\\\\\" , \"|\" , \"-\" , \"+\" , \"x\", \"o\", \"O\", \".\", \"*\" ]\n",
    "\n",
    "\n",
    "plt.figure(figsize=(10, 5))\n",
    "for name, res in results.items():\n",
    "    plt.hist(res, bins=bins, alpha=0.5, label=name, hatch=patterns.pop(0))\n",
    "plt.xscale('log')\n",
    "plt.legend()"
   ]
  },
  {
   "cell_type": "code",
   "execution_count": 56,
   "metadata": {},
   "outputs": [
    {
     "name": "stdout",
     "output_type": "stream",
     "text": [
      "40000\n"
     ]
    }
   ],
   "source": [
    "p = 200\n",
    "d = 200\n",
    "k = 10\n",
    "n = p * d\n",
    "print(n)\n",
    "\n",
    "x, y = gen_data(n, p, d, k)"
   ]
  },
  {
   "cell_type": "code",
   "execution_count": 58,
   "metadata": {},
   "outputs": [
    {
     "name": "stdout",
     "output_type": "stream",
     "text": [
      "31.4 ms ± 1.22 ms per loop (mean ± std. dev. of 7 runs, 10 loops each)\n"
     ]
    }
   ],
   "source": [
    "%%timeit\n",
    "solve_tiny(x, y, k)"
   ]
  },
  {
   "cell_type": "code",
   "execution_count": 59,
   "metadata": {},
   "outputs": [
    {
     "name": "stdout",
     "output_type": "stream",
     "text": [
      "212 ms ± 4.81 ms per loop (mean ± std. dev. of 7 runs, 1 loop each)\n"
     ]
    }
   ],
   "source": [
    "%%timeit\n",
    "solve_nih(x, y, k, option=1)"
   ]
  },
  {
   "cell_type": "code",
   "execution_count": 60,
   "metadata": {},
   "outputs": [
    {
     "name": "stdout",
     "output_type": "stream",
     "text": [
      "31 ms ± 1.26 ms per loop (mean ± std. dev. of 7 runs, 10 loops each)\n"
     ]
    }
   ],
   "source": [
    "%%timeit\n",
    "solve_svd_l2(x, y, k)"
   ]
  },
  {
   "cell_type": "code",
   "execution_count": 57,
   "metadata": {},
   "outputs": [
    {
     "name": "stdout",
     "output_type": "stream",
     "text": [
      "29.8 ms ± 1.2 ms per loop (mean ± std. dev. of 7 runs, 10 loops each)\n"
     ]
    }
   ],
   "source": [
    "%%timeit\n",
    "solve_svd_l2(x, y, k)"
   ]
  },
  {
   "cell_type": "code",
   "execution_count": 61,
   "metadata": {},
   "outputs": [
    {
     "name": "stdout",
     "output_type": "stream",
     "text": [
      "35.3 ms ± 1.33 ms per loop (mean ± std. dev. of 7 runs, 10 loops each)\n"
     ]
    }
   ],
   "source": [
    "%%timeit\n",
    "solve_svd_l2_tl(x, y, k)"
   ]
  },
  {
   "cell_type": "code",
   "execution_count": 48,
   "metadata": {},
   "outputs": [
    {
     "name": "stdout",
     "output_type": "stream",
     "text": [
      "40000\n"
     ]
    }
   ],
   "source": [
    "p = 200\n",
    "d = 200\n",
    "k = 10\n",
    "n = p * d\n",
    "print(n)\n",
    "\n",
    "x, y = gen_data(n, p, d, k)\n",
    "x = x.to(device=torch.device('cuda'))\n",
    "y = y.to(device=torch.device('cuda'))"
   ]
  },
  {
   "cell_type": "code",
   "execution_count": 49,
   "metadata": {},
   "outputs": [
    {
     "name": "stdout",
     "output_type": "stream",
     "text": [
      "233 ms ± 87.7 µs per loop (mean ± std. dev. of 7 runs, 1 loop each)\n"
     ]
    }
   ],
   "source": [
    "%%timeit\n",
    "solve_tiny(x, y, k)"
   ]
  },
  {
   "cell_type": "code",
   "execution_count": 50,
   "metadata": {},
   "outputs": [
    {
     "name": "stdout",
     "output_type": "stream",
     "text": [
      "521 ms ± 845 µs per loop (mean ± std. dev. of 7 runs, 1 loop each)\n"
     ]
    }
   ],
   "source": [
    "%%timeit\n",
    "solve_nih(x, y, k, option=1)"
   ]
  },
  {
   "cell_type": "code",
   "execution_count": 51,
   "metadata": {},
   "outputs": [
    {
     "name": "stdout",
     "output_type": "stream",
     "text": [
      "339 ms ± 45.5 µs per loop (mean ± std. dev. of 7 runs, 1 loop each)\n"
     ]
    }
   ],
   "source": [
    "%%timeit\n",
    "solve_svd_l2(x, y, k)"
   ]
  },
  {
   "cell_type": "code",
   "execution_count": 52,
   "metadata": {},
   "outputs": [
    {
     "name": "stdout",
     "output_type": "stream",
     "text": [
      "339 ms ± 123 µs per loop (mean ± std. dev. of 7 runs, 1 loop each)\n"
     ]
    }
   ],
   "source": [
    "%%timeit\n",
    "solve_svd_l2_tl(x, y, k)"
   ]
  },
  {
   "cell_type": "code",
   "execution_count": null,
   "metadata": {},
   "outputs": [],
   "source": []
  }
 ],
 "metadata": {
  "kernelspec": {
   "display_name": "CONDA_3_11",
   "language": "python",
   "name": "python3"
  },
  "language_info": {
   "codemirror_mode": {
    "name": "ipython",
    "version": 3
   },
   "file_extension": ".py",
   "mimetype": "text/x-python",
   "name": "python",
   "nbconvert_exporter": "python",
   "pygments_lexer": "ipython3",
   "version": "3.11.8"
  }
 },
 "nbformat": 4,
 "nbformat_minor": 2
}

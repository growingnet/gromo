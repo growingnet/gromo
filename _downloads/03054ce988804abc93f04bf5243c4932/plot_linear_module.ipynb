{
  "cells": [
    {
      "cell_type": "markdown",
      "metadata": {},
      "source": [
        "\n# Minimal Linear Growing Layers\n\nThis example shows minimal linear growing layers.\n"
      ]
    },
    {
      "cell_type": "code",
      "execution_count": null,
      "metadata": {
        "collapsed": false
      },
      "outputs": [],
      "source": [
        "# Authors: Theo Rudkiewicz <theo.rudkiewicz@inria.fr>\n#          Sylvain Chevallier <sylvain.chevallier@universite-paris-saclay.fr>"
      ]
    },
    {
      "cell_type": "markdown",
      "metadata": {},
      "source": [
        "## Setup\nImporting the modules\n\n"
      ]
    },
    {
      "cell_type": "code",
      "execution_count": null,
      "metadata": {
        "collapsed": false
      },
      "outputs": [],
      "source": [
        "import torch\n\nfrom gromo.modules.linear_growing_module import LinearGrowingModule\nfrom gromo.utils.utils import global_device"
      ]
    },
    {
      "cell_type": "markdown",
      "metadata": {},
      "source": [
        "Define three linear growing layers of size 1, 1, 1 with ReLU activation\n\n"
      ]
    },
    {
      "cell_type": "code",
      "execution_count": null,
      "metadata": {
        "collapsed": false
      },
      "outputs": [],
      "source": [
        "l1 = LinearGrowingModule(\n    1, 1, use_bias=True, post_layer_function=torch.nn.ReLU(), name=\"l1\"\n)\nl2 = LinearGrowingModule(\n    1,\n    1,\n    use_bias=True,\n    previous_module=l1,\n    post_layer_function=torch.nn.ReLU(),\n    name=\"l2\",\n)\nl3 = LinearGrowingModule(1, 1, use_bias=True, previous_module=l2, name=\"l3\")"
      ]
    },
    {
      "cell_type": "markdown",
      "metadata": {},
      "source": [
        "Generate random data, initialize the computation and compute optimal updates\n\n"
      ]
    },
    {
      "cell_type": "code",
      "execution_count": null,
      "metadata": {
        "collapsed": false
      },
      "outputs": [],
      "source": [
        "x = torch.randn(200, 1, device=global_device())\nnet = torch.nn.Sequential(l1, l2, l3)\n\nprint(net)\n\nfor layer in net:\n    layer.init_computation()\n\nfor layer in net:\n    print(layer.__str__(verbose=1))\n\ny = net(x)\nloss = torch.norm(y)\nprint(f\"loss: {loss}\")\nloss.backward()\n\nfor layer in net:\n    layer.update_computation()\n\n    layer.compute_optimal_updates()\n\nfor layer in net:\n    layer.reset_computation()\n\nl1.delete_update()\nl3.delete_update()\n\nl2.scaling_factor = 1"
      ]
    },
    {
      "cell_type": "markdown",
      "metadata": {},
      "source": [
        "Print parameters before and after applying the optimal update\n\n"
      ]
    },
    {
      "cell_type": "code",
      "execution_count": null,
      "metadata": {
        "collapsed": false
      },
      "outputs": [],
      "source": [
        "print(f\"{l2.first_order_improvement=}\")\nprint(f\"{l2.weight=}\")\nprint(f\"{l2.bias=}\")\nprint(f\"{l2.optimal_delta_layer=}\")\nprint(f\"{l2.parameter_update_decrease=}\")\nprint(f\"{l2.extended_input_layer=}\")\nprint(f\"{l2.extended_input_layer.weight=}\")\nprint(f\"{l2.extended_input_layer.bias=}\")\nprint(f\"{l1.extended_output_layer=}\")\nprint(f\"{l2.eigenvalues_extension=}\")\n\nx_ext = None\nfor layer in net:\n    x, x_ext = layer.extended_forward(x, x_ext)\n\nnew_loss = torch.norm(x)\nprint(f\"loss: {new_loss}, {loss - new_loss} improvement\")\nl2.apply_change()\n\nprint(\"------- New weights -------\")\nprint(f\"{l1.weight=}\")\nprint(f\"{l2.weight=}\")\nprint(f\"{l3.weight=}\")\nprint(\"------- New biases -------\")\nprint(f\"{l1.bias=}\")\nprint(f\"{l2.bias=}\")\nprint(f\"{l3.bias=}\")\n\nfor layer in net:\n    layer.init_computation()\n\nfor layer in net:\n    print(layer.__str__(verbose=2))\n\ny = net(x)\nloss = torch.norm(y)\nprint(f\"loss: {loss}\")\nloss.backward()\n\nfor layer in net:\n    layer.update_computation()\n\n    layer.compute_optimal_updates()"
      ]
    }
  ],
  "metadata": {
    "kernelspec": {
      "display_name": "Python 3",
      "language": "python",
      "name": "python3"
    },
    "language_info": {
      "codemirror_mode": {
        "name": "ipython",
        "version": 3
      },
      "file_extension": ".py",
      "mimetype": "text/x-python",
      "name": "python",
      "nbconvert_exporter": "python",
      "pygments_lexer": "ipython3",
      "version": "3.11.11"
    }
  },
  "nbformat": 4,
  "nbformat_minor": 0
}